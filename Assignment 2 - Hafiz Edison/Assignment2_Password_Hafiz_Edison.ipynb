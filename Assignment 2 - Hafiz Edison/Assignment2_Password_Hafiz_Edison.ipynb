{
  "nbformat": 4,
  "nbformat_minor": 0,
  "metadata": {
    "colab": {
      "name": "Untitled4.ipynb",
      "provenance": []
    },
    "kernelspec": {
      "name": "python3",
      "display_name": "Python 3"
    },
    "language_info": {
      "name": "python"
    }
  },
  "cells": [
    {
      "cell_type": "code",
      "metadata": {
        "colab": {
          "base_uri": "https://localhost:8080/",
          "height": 136
        },
        "id": "iWBqa2HdNDgZ",
        "outputId": "e91ab0a9-778b-4143-8136-d022aafb5c0b"
      },
      "source": [
        "print('Enter correct password')\n",
        "count=0\n",
        "\n",
        "while count<10:\n",
        "    password=input('Enter password: ')\n",
        "    if password =='2222':\n",
        "        print(\"Your Password is Correct\")\n",
        "        break\n",
        "    elif count==9 :\n",
        "        print(\"You tried too many times, You're Blocked\")\n",
        "        break\n",
        "    else:\n",
        "        count+=1\n",
        "        print(\"Incorrect, Please Try Again\")"
      ],
      "execution_count": 15,
      "outputs": [
        {
          "output_type": "error",
          "ename": "SyntaxError",
          "evalue": "ignored",
          "traceback": [
            "\u001b[0;36m  File \u001b[0;32m\"<ipython-input-15-df54d4c8f3c4>\"\u001b[0;36m, line \u001b[0;32m3\u001b[0m\n\u001b[0;31m    while:\u001b[0m\n\u001b[0m         ^\u001b[0m\n\u001b[0;31mSyntaxError\u001b[0m\u001b[0;31m:\u001b[0m invalid syntax\n"
          ]
        }
      ]
    }
  ]
}