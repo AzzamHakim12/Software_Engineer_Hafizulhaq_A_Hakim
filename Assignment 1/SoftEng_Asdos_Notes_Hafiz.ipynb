{
  "nbformat": 4,
  "nbformat_minor": 0,
  "metadata": {
    "colab": {
      "name": "Untitled2.ipynb",
      "provenance": [],
      "collapsed_sections": []
    },
    "kernelspec": {
      "name": "python3",
      "display_name": "Python 3"
    },
    "language_info": {
      "name": "python"
    }
  },
  "cells": [
    {
      "cell_type": "code",
      "metadata": {
        "id": "N127fB-4lkPU"
      },
      "source": [
        "# Contoh contoh variabel\n",
        "\n",
        "a = 10 # integer\n",
        "b = 3.14 # float\n",
        "c = \"s\" # string\n",
        "d = \"SONY\" # string\n",
        "e = True # boolean\n",
        "f = False # boolean\n",
        "g = [] # list\n",
        "h = [1, 2, 3] # list\n",
        "i = {} # dictionary\n",
        "j = () # tuple"
      ],
      "execution_count": null,
      "outputs": []
    },
    {
      "cell_type": "code",
      "metadata": {
        "id": "y_XAO7JSlnVV"
      },
      "source": [
        "# print => untuk debugging\n",
        "print(2+4*3)"
      ],
      "execution_count": null,
      "outputs": []
    },
    {
      "cell_type": "code",
      "metadata": {
        "id": "fu83kafAlr9s"
      },
      "source": [
        "\n",
        "# concatination\n",
        "\n",
        "nama = \"Hafizzz\"\n",
        "umur = 111\n",
        "alamat = \"Atlantis\"\n",
        "\n",
        "print(\"hai namaku adalah \" + nama)\n",
        "print(\"hai namaku adalah {}, umurku {}, aku tinggal di {}\".format(nama, umur, alamat)) #suggested to be use\n",
        "print(\"Hai namaku adalah\", nama ,\", aku tinggal di\", alamat ,\", umurku\", umur)"
      ],
      "execution_count": null,
      "outputs": []
    },
    {
      "cell_type": "code",
      "metadata": {
        "id": "Wx-DazZhl0zo"
      },
      "source": [
        "# if else\n",
        "\n",
        "import math\n",
        "\n",
        "a = 10\n",
        "b = 10\n",
        "\n",
        "if a == 10:\n",
        "  print(\"a sama dengan 10\")\n",
        "elif a > 10:\n",
        "  print(\"a lebih besar dari 10\")\n",
        "else:\n",
        "  print(\"a kurang dari 10\")\n",
        "\n",
        "## conditional statement\n",
        "a == b \n",
        "a != b\n",
        "a <= b\n",
        "a >= b\n",
        "a < b\n",
        "a > b\n",
        "\n",
        "## Result of conditional statement\n",
        "True and True\n",
        "True or True\n",
        "\n",
        "## operator \n",
        "a + b\n",
        "a - b\n",
        "a * b\n",
        "a / b\n",
        "a // b\n",
        "a ** b\n",
        "a % b\n",
        "a ** (1/2)\n",
        "math.sqrt(a)\n",
        "math.sin(a)\n",
        "math.cos(a)\n",
        "math.tan(a)\n",
        "math.log(a)"
      ],
      "execution_count": null,
      "outputs": []
    },
    {
      "cell_type": "markdown",
      "metadata": {
        "id": "HqTyDF_ylk1d"
      },
      "source": [
        ""
      ]
    }
  ]
}